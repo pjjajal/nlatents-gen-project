{
 "cells": [
  {
   "cell_type": "code",
   "execution_count": 1,
   "metadata": {},
   "outputs": [],
   "source": [
    "import h5py\n",
    "import numpy as np\n",
    "from nlb_tools.nwb_interface import NWBDataset\n",
    "from nlb_tools.evaluation import evaluate"
   ]
  },
  {
   "cell_type": "code",
   "execution_count": 2,
   "metadata": {},
   "outputs": [
    {
     "name": "stderr",
     "output_type": "stream",
     "text": [
      "/home/jajal/mambaforge/envs/nlatents/lib/python3.12/site-packages/hdmf/utils.py:668: UserWarning: Ignoring cached namespace 'hdmf-common' version 1.5.0 because version 1.8.0 is already loaded.\n",
      "  return func(args[0], **pargs)\n",
      "/home/jajal/mambaforge/envs/nlatents/lib/python3.12/site-packages/hdmf/utils.py:668: UserWarning: Ignoring cached namespace 'core' version 2.4.0 because version 2.6.0-alpha is already loaded.\n",
      "  return func(args[0], **pargs)\n",
      "/home/jajal/mambaforge/envs/nlatents/lib/python3.12/site-packages/hdmf/utils.py:668: UserWarning: Ignoring cached namespace 'hdmf-experimental' version 0.1.0 because version 0.5.0 is already loaded.\n",
      "  return func(args[0], **pargs)\n"
     ]
    }
   ],
   "source": [
    "MCMAZE_PATH = \"data/000128/sub-Jenkins\"\n",
    "dataset = NWBDataset(MCMAZE_PATH)\n"
   ]
  },
  {
   "cell_type": "code",
   "execution_count": 2,
   "metadata": {},
   "outputs": [
    {
     "name": "stdout",
     "output_type": "stream",
     "text": [
      "['train_behavior', 'train_spikes_heldin', 'train_spikes_heldout']\n"
     ]
    }
   ],
   "source": [
    "with h5py.File(\"datasets/mcmaze_train_bw5.h5\", 'r') as f:\n",
    "    print(list(f.keys()))\n",
    "    train_behavior = f['train_behavior'][:]\n",
    "    train_spikes_heldin = f['train_spikes_heldin'][:]\n",
    "    train_spikes_heldout = f['train_spikes_heldout'][:]"
   ]
  },
  {
   "cell_type": "code",
   "execution_count": 3,
   "metadata": {},
   "outputs": [
    {
     "data": {
      "text/plain": [
       "(1721, 140, 137)"
      ]
     },
     "execution_count": 3,
     "metadata": {},
     "output_type": "execute_result"
    }
   ],
   "source": [
    "train_spikes_heldin.shape"
   ]
  },
  {
   "cell_type": "code",
   "execution_count": 4,
   "metadata": {},
   "outputs": [
    {
     "data": {
      "text/plain": [
       "array([[0., 0., 0., ..., 0., 0., 0.],\n",
       "       [0., 0., 0., ..., 0., 0., 0.],\n",
       "       [0., 0., 0., ..., 0., 0., 0.],\n",
       "       ...,\n",
       "       [0., 0., 0., ..., 0., 0., 0.],\n",
       "       [0., 0., 0., ..., 0., 0., 0.],\n",
       "       [0., 0., 0., ..., 0., 0., 1.]], dtype=float32)"
      ]
     },
     "execution_count": 4,
     "metadata": {},
     "output_type": "execute_result"
    }
   ],
   "source": [
    "np.array(train_spikes_heldin[0])"
   ]
  },
  {
   "cell_type": "code",
   "execution_count": 19,
   "metadata": {},
   "outputs": [
    {
     "name": "stdout",
     "output_type": "stream",
     "text": [
      "['eval_spikes_heldin', 'eval_spikes_heldout', 'train_behavior', 'train_spikes_heldin', 'train_spikes_heldout']\n"
     ]
    }
   ],
   "source": [
    "with h5py.File(\"datasets/mcmaze_val_bw5.h5\", 'r') as f:\n",
    "    print(list(f.keys()))"
   ]
  },
  {
   "cell_type": "code",
   "execution_count": 16,
   "metadata": {},
   "outputs": [
    {
     "name": "stdout",
     "output_type": "stream",
     "text": [
      "dict_keys(['eval_behavior', 'eval_spikes_heldin_forward', 'eval_spikes_heldout', 'eval_spikes_heldout_forward', 'train_behavior'])\n"
     ]
    }
   ],
   "source": [
    "with h5py.File(\"datasets/mcmaze_val_target_bw5.h5\", 'r') as f:\n",
    "    target_dict = {}\n",
    "    for key in f['mc_maze']:\n",
    "        target_dict[key] = f['mc_maze'][key][()]\n",
    "    print(target_dict.keys())"
   ]
  },
  {
   "cell_type": "code",
   "execution_count": 12,
   "metadata": {},
   "outputs": [
    {
     "data": {
      "text/plain": [
       "dict_keys(['eval_behavior', 'eval_spikes_heldin_forward', 'eval_spikes_heldout', 'eval_spikes_heldout_forward', 'train_behavior'])"
      ]
     },
     "execution_count": 12,
     "metadata": {},
     "output_type": "execute_result"
    }
   ],
   "source": [
    "target_dict.keys()"
   ]
  },
  {
   "cell_type": "code",
   "execution_count": null,
   "metadata": {},
   "outputs": [],
   "source": [
    "evaluate(\"datasets/mcmaze_val_target_bw5.h5\", )"
   ]
  },
  {
   "cell_type": "code",
   "execution_count": 18,
   "metadata": {},
   "outputs": [
    {
     "data": {
      "text/plain": [
       "(574, 140, 45)"
      ]
     },
     "execution_count": 18,
     "metadata": {},
     "output_type": "execute_result"
    }
   ],
   "source": [
    "target_dict['eval_spikes_heldout'].shape"
   ]
  },
  {
   "cell_type": "code",
   "execution_count": null,
   "metadata": {},
   "outputs": [],
   "source": []
  }
 ],
 "metadata": {
  "kernelspec": {
   "display_name": "nlatents",
   "language": "python",
   "name": "python3"
  },
  "language_info": {
   "codemirror_mode": {
    "name": "ipython",
    "version": 3
   },
   "file_extension": ".py",
   "mimetype": "text/x-python",
   "name": "python",
   "nbconvert_exporter": "python",
   "pygments_lexer": "ipython3",
   "version": "3.12.2"
  }
 },
 "nbformat": 4,
 "nbformat_minor": 2
}
